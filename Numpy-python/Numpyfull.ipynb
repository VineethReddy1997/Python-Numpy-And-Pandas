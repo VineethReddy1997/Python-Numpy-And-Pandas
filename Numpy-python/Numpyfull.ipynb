{
 "cells": [
  {
   "cell_type": "code",
   "execution_count": 4,
   "id": "38683f6e",
   "metadata": {},
   "outputs": [
    {
     "data": {
      "text/plain": [
       "\"NumPy is a Python package. It stands for 'Numerical Python'. \\nIt is a library consisting of multidimensional array objects and a collection of routines for processing of array.\\nThere are many contributors to this open source project.\\n\""
      ]
     },
     "execution_count": 4,
     "metadata": {},
     "output_type": "execute_result"
    }
   ],
   "source": [
    "'''NumPy is a Python package. It stands for 'Numerical Python'. \n",
    "It is a library consisting of multidimensional array objects and a collection of routines for processing of array.\n",
    "There are many contributors to this open source project.\n",
    "'''"
   ]
  },
  {
   "cell_type": "code",
   "execution_count": 8,
   "id": "6107ef03",
   "metadata": {},
   "outputs": [
    {
     "name": "stdout",
     "output_type": "stream",
     "text": [
      "Requirement already satisfied: numpy in f:\\vineethreddy\\lib\\site-packages (1.20.1)\n"
     ]
    },
    {
     "data": {
      "text/plain": [
       "array([1, 2, 3])"
      ]
     },
     "execution_count": 8,
     "metadata": {},
     "output_type": "execute_result"
    }
   ],
   "source": [
    "#pip install numpy\n",
    "import numpy as np \n",
    "a = np.array([1,2,3])   #single dimension array\n",
    "a"
   ]
  },
  {
   "cell_type": "code",
   "execution_count": null,
   "id": "800703cf",
   "metadata": {},
   "outputs": [],
   "source": []
  },
  {
   "cell_type": "code",
   "execution_count": 2,
   "id": "a78a585f",
   "metadata": {},
   "outputs": [
    {
     "data": {
      "text/plain": [
       "array([[1, 2],\n",
       "       [3, 4]])"
      ]
     },
     "execution_count": 2,
     "metadata": {},
     "output_type": "execute_result"
    }
   ],
   "source": [
    "# more than one dimensions \n",
    "import numpy as np \n",
    "a = np.array([[1, 2], [3, 4]]) \n",
    "a"
   ]
  },
  {
   "cell_type": "code",
   "execution_count": 6,
   "id": "b4eaf22d",
   "metadata": {},
   "outputs": [
    {
     "name": "stdout",
     "output_type": "stream",
     "text": [
      "[[[[[1 2 3 4 5]]]]]\n"
     ]
    }
   ],
   "source": [
    "# minimum dimensions \n",
    "import numpy as np\n",
    "a = np.array([1, 2, 3,4,5], ndmin = 5) \n",
    "print(a)"
   ]
  },
  {
   "cell_type": "code",
   "execution_count": 35,
   "id": "689beef4",
   "metadata": {},
   "outputs": [
    {
     "data": {
      "text/plain": [
       "array(['1', '2', '3'], dtype='<U1')"
      ]
     },
     "execution_count": 35,
     "metadata": {},
     "output_type": "execute_result"
    }
   ],
   "source": [
    "# dtype parameter \n",
    "import numpy as np\n",
    "a = np.array([1, 2, 3], dtype = str) \n",
    "a"
   ]
  },
  {
   "cell_type": "code",
   "execution_count": 39,
   "id": "078811c1",
   "metadata": {},
   "outputs": [
    {
     "name": "stdout",
     "output_type": "stream",
     "text": [
      "[[1 2 3]\n",
      " [4 5 6]]\n"
     ]
    },
    {
     "data": {
      "text/plain": [
       "(2, 3)"
      ]
     },
     "execution_count": 39,
     "metadata": {},
     "output_type": "execute_result"
    }
   ],
   "source": [
    "import numpy as np \n",
    "a = np.array([[1,2,3],[4,5,6]])  #coloums nd rows shape\n",
    "print(a)\n",
    "a.shape"
   ]
  },
  {
   "cell_type": "code",
   "execution_count": 37,
   "id": "23f01dcb",
   "metadata": {},
   "outputs": [
    {
     "data": {
      "text/plain": [
       "array([[1, 2, 3],\n",
       "       [4, 5, 6]])"
      ]
     },
     "execution_count": 37,
     "metadata": {},
     "output_type": "execute_result"
    }
   ],
   "source": [
    "s=np.array([1,2,3,4,5,6])  # 6 2*3 3*2\n",
    "s.reshape(2,3)"
   ]
  },
  {
   "cell_type": "code",
   "execution_count": 38,
   "id": "3ab7f737",
   "metadata": {},
   "outputs": [
    {
     "data": {
      "text/plain": [
       "array([[1, 2, 3, 4],\n",
       "       [5, 6, 7, 8]])"
      ]
     },
     "execution_count": 38,
     "metadata": {},
     "output_type": "execute_result"
    }
   ],
   "source": [
    "q=np.array([1,2,3,4,5,6,7,8])\n",
    "q.reshape(1,8)\n",
    "\n",
    "q.reshape(8,1)\n",
    "q.reshape(2,4)"
   ]
  },
  {
   "cell_type": "code",
   "execution_count": 24,
   "id": "8eb17788",
   "metadata": {},
   "outputs": [
    {
     "data": {
      "text/plain": [
       "array([[1, 2],\n",
       "       [3, 4],\n",
       "       [5, 6]])"
      ]
     },
     "execution_count": 24,
     "metadata": {},
     "output_type": "execute_result"
    }
   ],
   "source": [
    "import numpy as np \n",
    "a = np.array([[1,2,3],[4,5,6]]) \n",
    "b = a.reshape(3,2) \n",
    "b"
   ]
  },
  {
   "cell_type": "code",
   "execution_count": 51,
   "id": "e0f0679a",
   "metadata": {},
   "outputs": [
    {
     "data": {
      "text/plain": [
       "array([ 1,  3,  5,  7,  9, 11, 13, 15, 17, 19, 21, 23, 25, 27, 29, 31, 33,\n",
       "       35, 37, 39, 41, 43, 45, 47, 49, 51, 53, 55, 57, 59, 61, 63, 65, 67,\n",
       "       69, 71, 73, 75, 77, 79, 81, 83, 85, 87, 89, 91, 93, 95, 97, 99])"
      ]
     },
     "execution_count": 51,
     "metadata": {},
     "output_type": "execute_result"
    }
   ],
   "source": [
    "# an array of evenly spaced numbers \n",
    "import numpy as np \n",
    "a = np.arange(1,100,2) \n",
    "a"
   ]
  },
  {
   "cell_type": "code",
   "execution_count": null,
   "id": "dc3a9334",
   "metadata": {},
   "outputs": [],
   "source": []
  },
  {
   "cell_type": "code",
   "execution_count": 40,
   "id": "f58b46e5",
   "metadata": {},
   "outputs": [
    {
     "data": {
      "text/plain": [
       "array([0., 0., 0., 0., 0., 0., 0., 0., 0., 0., 0., 0., 0., 0., 0., 0., 0.,\n",
       "       0., 0., 0., 0., 0., 0., 0., 0., 0., 0., 0., 0., 0., 0., 0., 0., 0.,\n",
       "       0., 0., 0., 0., 0., 0., 0., 0., 0., 0., 0., 0., 0., 0., 0., 0.])"
      ]
     },
     "execution_count": 40,
     "metadata": {},
     "output_type": "execute_result"
    }
   ],
   "source": [
    "# array of five zeros. Default dtype is float \n",
    "import numpy as np \n",
    "x = np.zeros(50)\n",
    "x"
   ]
  },
  {
   "cell_type": "code",
   "execution_count": 55,
   "id": "ed6e2015",
   "metadata": {},
   "outputs": [
    {
     "data": {
      "text/plain": [
       "array([0, 0, 0, 0, 0, 0, 0, 0, 0])"
      ]
     },
     "execution_count": 55,
     "metadata": {},
     "output_type": "execute_result"
    }
   ],
   "source": [
    "import numpy as np \n",
    "import warnings\n",
    "warnings.filterwarnings('ignore')\n",
    "x = np.zeros((9), dtype = int) \n",
    "x"
   ]
  },
  {
   "cell_type": "code",
   "execution_count": 41,
   "id": "97dc0111",
   "metadata": {},
   "outputs": [
    {
     "data": {
      "text/plain": [
       "array([1, 1, 1, 1, 1])"
      ]
     },
     "execution_count": 41,
     "metadata": {},
     "output_type": "execute_result"
    }
   ],
   "source": [
    "# array of five ones. Default dtype is float \n",
    "import numpy as np \n",
    "x = np.ones((5),dtype = int)\n",
    "x"
   ]
  },
  {
   "cell_type": "markdown",
   "id": "60e6e693",
   "metadata": {},
   "source": [
    "#### import numpy as np \n",
    "x = np.ones([2,3], dtype = int) \n",
    "x"
   ]
  },
  {
   "cell_type": "code",
   "execution_count": 113,
   "id": "bd6a6486",
   "metadata": {},
   "outputs": [
    {
     "data": {
      "text/plain": [
       "array([ 1,  3,  2, 52,  6,  4,  5])"
      ]
     },
     "execution_count": 113,
     "metadata": {},
     "output_type": "execute_result"
    }
   ],
   "source": [
    "# convert list to ndarray     by using asarray function\n",
    "import numpy as np \n",
    "d={'name':'vineeth','roll':1} #dict to array convert\n",
    "c=[1,5,5.5,True,1+5j,\"python\"]#default convert to string when we take list elements\n",
    "e=(1,3,2,52,6,4,5)             #tuple convert\n",
    "a=np.asarray(d)\n",
    "a=np.asarray(e)\n",
    "a"
   ]
  },
  {
   "cell_type": "code",
   "execution_count": 42,
   "id": "1074a06d",
   "metadata": {
    "scrolled": true
   },
   "outputs": [
    {
     "name": "stderr",
     "output_type": "stream",
     "text": [
      "F:\\vineethreddy\\lib\\site-packages\\numpy\\core\\_asarray.py:102: VisibleDeprecationWarning: Creating an ndarray from ragged nested sequences (which is a list-or-tuple of lists-or-tuples-or ndarrays with different lengths or shapes) is deprecated. If you meant to do this, you must specify 'dtype=object' when creating the ndarray.\n",
      "  return array(a, dtype, copy=False, order=order)\n"
     ]
    },
    {
     "data": {
      "text/plain": [
       "array([(1, 2, 3), (4, 5)], dtype=object)"
      ]
     },
     "execution_count": 42,
     "metadata": {},
     "output_type": "execute_result"
    }
   ],
   "source": [
    "# ndarray from list of tuples      by using asarray function\n",
    "import numpy as np \n",
    "\n",
    "x = [(1,2,3),(4,5)] \n",
    "a = np.asarray(x) \n",
    "a"
   ]
  },
  {
   "cell_type": "code",
   "execution_count": 43,
   "id": "5131a34b",
   "metadata": {},
   "outputs": [
    {
     "data": {
      "text/plain": [
       "array([ 0,  2,  4,  6,  8, 10, 12, 14, 16, 18, 20, 22, 24, 26, 28, 30, 32,\n",
       "       34, 36, 38, 40, 42, 44, 46, 48])"
      ]
     },
     "execution_count": 43,
     "metadata": {},
     "output_type": "execute_result"
    }
   ],
   "source": [
    "import numpy as np \n",
    "x = np.arange(0,50,2) #by using range function  to print the looping of elements by jumping\n",
    "x"
   ]
  },
  {
   "cell_type": "code",
   "execution_count": 110,
   "id": "f246d191",
   "metadata": {},
   "outputs": [
    {
     "data": {
      "text/plain": [
       "array([ 0.,  1.,  2.,  3.,  4.,  5.,  6.,  7.,  8.,  9., 10., 11., 12.,\n",
       "       13., 14., 15., 16., 17., 18., 19., 20., 21., 22., 23., 24., 25.,\n",
       "       26., 27., 28., 29., 30., 31., 32., 33., 34., 35., 36., 37., 38.,\n",
       "       39., 40., 41., 42., 43., 44., 45., 46., 47., 48., 49.])"
      ]
     },
     "execution_count": 110,
     "metadata": {},
     "output_type": "execute_result"
    }
   ],
   "source": [
    "import numpy as np \n",
    "# dtype set \n",
    "x = np.arange((50), dtype = float) # arange  function dtype conversion to float nd int\n",
    "x"
   ]
  },
  {
   "cell_type": "code",
   "execution_count": 51,
   "id": "b7f741db",
   "metadata": {},
   "outputs": [
    {
     "name": "stdout",
     "output_type": "stream",
     "text": [
      "[0 1 2 3 4 5 6 7 8 9]\n"
     ]
    },
    {
     "data": {
      "text/plain": [
       "array([3, 5, 7])"
      ]
     },
     "execution_count": 51,
     "metadata": {},
     "output_type": "execute_result"
    }
   ],
   "source": [
    "## indexing elements will be slice by using slicing function to jump elements\n",
    "import numpy as np      \n",
    "a = np.arange(10)\n",
    "print(a)\n",
    "s = slice(3,9,2)   #using slice function\n",
    "a[s]\n"
   ]
  },
  {
   "cell_type": "code",
   "execution_count": 116,
   "id": "e92b5e07",
   "metadata": {},
   "outputs": [
    {
     "data": {
      "text/plain": [
       "array([ 3,  6,  9, 12, 15, 18])"
      ]
     },
     "execution_count": 116,
     "metadata": {},
     "output_type": "execute_result"
    }
   ],
   "source": [
    "import numpy as np \n",
    "a = np.arange(20) \n",
    "b = a[3:19:3]  #using list function in of slicing between elements\n",
    "b"
   ]
  },
  {
   "cell_type": "code",
   "execution_count": null,
   "id": "ade5d5e5",
   "metadata": {},
   "outputs": [],
   "source": []
  },
  {
   "cell_type": "code",
   "execution_count": 125,
   "id": "294bf43a",
   "metadata": {},
   "outputs": [
    {
     "data": {
      "text/plain": [
       "array([155,  22, 330,  44])"
      ]
     },
     "execution_count": 125,
     "metadata": {},
     "output_type": "execute_result"
    }
   ],
   "source": [
    "import numpy as np \n",
    "                              #addition,multiplication,division,subtractation,modules in ndarrays\n",
    "a = np.array([145,2,300,4]) \n",
    "b = np.array([10,20,30,40]) \n",
    "c = a+b \n",
    "c"
   ]
  },
  {
   "cell_type": "code",
   "execution_count": 149,
   "id": "2b01add4",
   "metadata": {},
   "outputs": [
    {
     "name": "stdout",
     "output_type": "stream",
     "text": [
      "[ 0  5 10 15 20 25 30 35 40 45 50 55]\n",
      "original iterate\n",
      "[[ 0  5 10]\n",
      " [15 20 25]\n",
      " [30 35 40]\n",
      " [45 50 55]]\n",
      "\n",
      "\n",
      "modifier array is\n",
      "0\n",
      "5\n",
      "10\n",
      "15\n",
      "20\n",
      "25\n",
      "30\n",
      "35\n",
      "40\n",
      "45\n",
      "50\n",
      "55\n"
     ]
    }
   ],
   "source": [
    "import numpy as np\n",
    "a = np.arange(0,60,5)\n",
    "print(a)\n",
    "print('original iterate')\n",
    "b=a.reshape(4,3)\n",
    "print(b)\n",
    "print('\\n')\n",
    "print('modifier array is')\n",
    "for x in np.nditer(b):\n",
    "    print (x)\n",
    "\n"
   ]
  },
  {
   "cell_type": "code",
   "execution_count": 155,
   "id": "6ae3d9d1",
   "metadata": {},
   "outputs": [
    {
     "name": "stdout",
     "output_type": "stream",
     "text": [
      "Sine of different angles:\n",
      "[0.         0.5        0.70710678 0.8660254  1.        ]\n",
      "\n",
      "\n",
      "Cosine values for angles in array:\n",
      "[1.00000000e+00 8.66025404e-01 7.07106781e-01 5.00000000e-01\n",
      " 6.12323400e-17]\n",
      "\n",
      "\n",
      "Tangent values for given angles:\n",
      "[0.00000000e+00 5.77350269e-01 1.00000000e+00 1.73205081e+00\n",
      " 1.63312394e+16]\n"
     ]
    }
   ],
   "source": [
    "import numpy as np \n",
    "a = np.array([0,30,45,60,90]) \n",
    "\n",
    "print('Sine of different angles:')\n",
    "# Convert to radians by multiplying with pi/180 \n",
    "print(np.sin(a*np.pi/180) )\n",
    "print('\\n')\n",
    "\n",
    "print('Cosine values for angles in array:')\n",
    "print(np.cos(a*np.pi/180) )\n",
    "print('\\n')  \n",
    "\n",
    "print('Tangent values for given angles:')\n",
    "print(np.tan(a*np.pi/180))\n"
   ]
  },
  {
   "cell_type": "code",
   "execution_count": 197,
   "id": "c4f54965",
   "metadata": {
    "scrolled": true
   },
   "outputs": [
    {
     "name": "stdout",
     "output_type": "stream",
     "text": [
      "First array:\n",
      "[[0. 1. 2.]\n",
      " [3. 4. 5.]\n",
      " [6. 7. 8.]]\n",
      "\n",
      "\n",
      "Second array:\n",
      "[10 10 10]\n",
      "\n",
      "\n",
      "Add the two arrays:\n",
      "[[10. 11. 12.]\n",
      " [13. 14. 15.]\n",
      " [16. 17. 18.]]\n",
      "\n",
      "\n",
      "Subtract the two arrays:\n",
      "[[-10.  -9.  -8.]\n",
      " [ -7.  -6.  -5.]\n",
      " [ -4.  -3.  -2.]]\n",
      "\n",
      "\n",
      "Multiply the two arrays:\n",
      "[[ 0. 10. 20.]\n",
      " [30. 40. 50.]\n",
      " [60. 70. 80.]]\n",
      "\n",
      "\n",
      "Divide the two arrays:\n",
      "[[0.  0.1 0.2]\n",
      " [0.3 0.4 0.5]\n",
      " [0.6 0.7 0.8]]\n"
     ]
    }
   ],
   "source": [
    "import numpy as np \n",
    "a = np.arange(9, dtype = float).reshape(3,3)\n",
    "\n",
    "print('First array:') \n",
    "print(a) \n",
    "print('\\n')  \n",
    "\n",
    "print('Second array:')\n",
    "b = np.array([10,10,10]) \n",
    "print(b)\n",
    "print('\\n')  \n",
    "\n",
    "print('Add the two arrays:') \n",
    "print(np.add(a,b)) \n",
    "print('\\n')  \n",
    "\n",
    "print('Subtract the two arrays:' )\n",
    "print(np.subtract(a,b) )\n",
    "print('\\n')  \n",
    "\n",
    "print('Multiply the two arrays:' )\n",
    "print(np.multiply(a,b)) \n",
    "print('\\n')  \n",
    "\n",
    "print('Divide the two arrays:' )\n",
    "print(np.divide(a,b))"
   ]
  },
  {
   "cell_type": "code",
   "execution_count": 198,
   "id": "64ad3b1b",
   "metadata": {},
   "outputs": [
    {
     "name": "stdout",
     "output_type": "stream",
     "text": [
      "1st array\n",
      "[[ 1  2  3  4  5  6  1]\n",
      " [ 4  2  5  4  1  4 41]]\n",
      "\n",
      "\n",
      "second array\n",
      "[ 1  5  4  6  2 54 52]\n",
      "\n",
      "\n",
      "addition a,b\n",
      "[[ 2  7  7 10  7 60 53]\n",
      " [ 5  7  9 10  3 58 93]]\n",
      "\n",
      "\n",
      "multiplycation a,b\n",
      "[[   1   10   12   24   10  324   52]\n",
      " [   4   10   20   24    2  216 2132]]\n",
      "\n",
      "\n",
      "division a,b\n",
      "[[1.         0.4        0.75       0.66666667 2.5        0.11111111\n",
      "  0.01923077]\n",
      " [4.         0.4        1.25       0.66666667 0.5        0.07407407\n",
      "  0.78846154]]\n",
      "\n",
      "\n",
      "subtract a,b\n",
      "[[  0  -3  -1  -2   3 -48 -51]\n",
      " [  3  -3   1  -2  -1 -50 -11]]\n",
      "\n",
      "\n"
     ]
    }
   ],
   "source": [
    "import numpy as np\n",
    "a=np.array([1,2,3,4,5,6,1,4,2,5,4,1,4,41])\n",
    "a=a.reshape(2,7)\n",
    "print('1st array')\n",
    "print(a)\n",
    "print('\\n')\n",
    "b=np.array([1,5,4,6,2,54,52])\n",
    "print('second array')\n",
    "print(b)\n",
    "print('\\n')\n",
    "\n",
    "print('addition a,b')\n",
    "print(np.add(a,b))\n",
    "print('\\n')\n",
    "\n",
    "\n",
    "print('multiplycation a,b')\n",
    "print(np.multiply(a,b))\n",
    "print('\\n')\n",
    "\n",
    "print('division a,b')\n",
    "print(np.divide(a,b))\n",
    "print('\\n')\n",
    "\n",
    "print('subtract a,b')\n",
    "print(np.subtract(a,b))\n",
    "print('\\n')"
   ]
  },
  {
   "cell_type": "code",
   "execution_count": 169,
   "id": "0fc10413",
   "metadata": {
    "scrolled": true
   },
   "outputs": [
    {
     "name": "stdout",
     "output_type": "stream",
     "text": [
      "Our array is:\n",
      "[[3 7 5]\n",
      " [8 4 3]\n",
      " [2 4 9]]\n",
      "\n",
      "\n",
      "Applying amin() function again:\n",
      "[2 4 3]\n",
      "\n",
      "\n",
      "Applying amax() function again:\n",
      "[7 8 9]\n"
     ]
    }
   ],
   "source": [
    "import numpy as np \n",
    "a = np.array([[3,7,5],[8,4,3],[2,4,9]]) \n",
    "\n",
    "print('Our array is:') \n",
    "print(a ) \n",
    "print('\\n')\n",
    "\n",
    "\n",
    "print('Applying amin() function again:' )\n",
    "print(np.amin(a,0) )\n",
    "print('\\n' )\n",
    "\n",
    "\n",
    "print('Applying amax() function again:')\n",
    "print(np.amax(a, axis = 1))"
   ]
  },
  {
   "cell_type": "code",
   "execution_count": 54,
   "id": "b5071327",
   "metadata": {},
   "outputs": [
    {
     "name": "stdout",
     "output_type": "stream",
     "text": [
      "Our array is:\n",
      "[[3 7]\n",
      " [9 1]]\n",
      "\n",
      "\n",
      "Applying sort() function:\n",
      "[[3 7]\n",
      " [1 9]]\n",
      "\n",
      "\n",
      "Sort along axis 0:\n",
      "[[3 1]\n",
      " [9 7]]\n",
      "\n",
      "\n"
     ]
    }
   ],
   "source": [
    "import numpy as np  \n",
    "a = np.array([[3,7],[9,1]]) \n",
    "\n",
    "print('Our array is:') \n",
    "print(a)\n",
    "print('\\n')\n",
    "\n",
    "print('Applying sort() function:')\n",
    "print(np.sort(a)) \n",
    "print('\\n') \n",
    "  \n",
    "print('Sort along axis 0:') \n",
    "print(np.sort(a, axis = 0))\n",
    "print('\\n')  \n"
   ]
  },
  {
   "cell_type": "code",
   "execution_count": 8,
   "id": "e3209449",
   "metadata": {},
   "outputs": [
    {
     "data": {
      "text/plain": [
       "8"
      ]
     },
     "execution_count": 8,
     "metadata": {},
     "output_type": "execute_result"
    }
   ],
   "source": [
    "import numpy as np\n",
    "  \n",
    "a= np.array([5], dtype =float)\n",
    "  \n",
    "g = a.itemsize\n",
    "  \n",
    "g"
   ]
  },
  {
   "cell_type": "code",
   "execution_count": 209,
   "id": "33bdca94",
   "metadata": {},
   "outputs": [
    {
     "name": "stdout",
     "output_type": "stream",
     "text": [
      "square-root of an array1 :  [1. 2. 3. 4.]\n",
      "square-root of an array2 :  [2.44948974 3.16227766 4.24264069]\n"
     ]
    }
   ],
   "source": [
    "\n",
    "# numpy.sqrt() method\n",
    "\n",
    "# importing numpy\n",
    "import numpy as k\n",
    "\n",
    "# applying sqrt() method on integer numbers\n",
    "arr1 = k.sqrt([1, 4, 9, 16])\n",
    "arr2 = k.sqrt([6, 10, 18])\n",
    "\n",
    "print(\"square-root of an array1 : \", arr1)\n",
    "print(\"square-root of an array2 : \", arr2)\n"
   ]
  },
  {
   "cell_type": "code",
   "execution_count": null,
   "id": "d4869e6e",
   "metadata": {},
   "outputs": [],
   "source": []
  },
  {
   "cell_type": "code",
   "execution_count": 18,
   "id": "fa35850d",
   "metadata": {},
   "outputs": [
    {
     "name": "stdout",
     "output_type": "stream",
     "text": [
      "Sum of arr :  36.2\n",
      "Sum of arr(uint8) :  36\n",
      "Sum of arr(float32) :  36.2\n"
     ]
    }
   ],
   "source": [
    "# Python Program illustrating\n",
    "# numpy.sum() method\n",
    "import numpy as np\n",
    "# 1D array\n",
    "arr = [20, 2, .2, 10, 4]\n",
    "\n",
    "print(\"Sum of arr : \", np.sum(arr))\n",
    "\n",
    "print(\"Sum of arr(uint8) : \", np.sum(arr, dtype = np.uint8))\n",
    "print(\"Sum of arr(float32) : \", np.sum(arr, dtype = np.float32))\n",
    "\n",
    "\n"
   ]
  },
  {
   "cell_type": "code",
   "execution_count": 1,
   "id": "79eaa847",
   "metadata": {},
   "outputs": [
    {
     "name": "stdout",
     "output_type": "stream",
     "text": [
      "[[14 17 12 33 44]\n",
      " [15  6 27  8 19]]\n",
      "\n",
      "Sum of arr :  195\n",
      "Sum of arr(axis = 0) :  [29 23 39 41 63]\n",
      "Sum of arr(axis = 1) :  [120  75]\n"
     ]
    }
   ],
   "source": [
    "\n",
    "# numpy.sum() method\n",
    "import numpy as np\n",
    "# 2D array\n",
    "arr = np.array([[14, 17, 12, 33, 44],[15, 6, 27, 8, 19]])\n",
    "print(arr)\n",
    "\n",
    "print(\"\\nSum of arr : \", np.sum(arr))\n",
    "print(\"Sum of arr(axis = 0) : \", np.sum(arr, axis = 0))\n",
    "print(\"Sum of arr(axis = 1) : \", np.sum(arr, axis = 1))\n",
    "\n",
    "\n"
   ]
  },
  {
   "cell_type": "code",
   "execution_count": null,
   "id": "96c76cb4",
   "metadata": {},
   "outputs": [],
   "source": []
  },
  {
   "cell_type": "code",
   "execution_count": null,
   "id": "b08f8374",
   "metadata": {},
   "outputs": [],
   "source": [
    "#task 19\n",
    "numpy practise\n"
   ]
  },
  {
   "cell_type": "code",
   "execution_count": null,
   "id": "ebea6b49",
   "metadata": {},
   "outputs": [],
   "source": []
  }
 ],
 "metadata": {
  "kernelspec": {
   "display_name": "Python 3",
   "language": "python",
   "name": "python3"
  },
  "language_info": {
   "codemirror_mode": {
    "name": "ipython",
    "version": 3
   },
   "file_extension": ".py",
   "mimetype": "text/x-python",
   "name": "python",
   "nbconvert_exporter": "python",
   "pygments_lexer": "ipython3",
   "version": "3.8.8"
  }
 },
 "nbformat": 4,
 "nbformat_minor": 5
}
