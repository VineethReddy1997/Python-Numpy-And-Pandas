{
 "cells": [
  {
   "cell_type": "markdown",
   "id": "97f577b1",
   "metadata": {},
   "source": [
    "# Numpy in python "
   ]
  },
  {
   "cell_type": "raw",
   "id": "b0bb27d5",
   "metadata": {},
   "source": [
    "Numpy is  a general purpose array - processing package  and it is used for numerical claculations on multi dimensional arrays ,\n",
    "it provides highly performancing in multidimensional arrays object\n",
    "\n",
    "\n"
   ]
  },
  {
   "cell_type": "markdown",
   "id": "1ef5d09b",
   "metadata": {},
   "source": [
    "# Array"
   ]
  },
  {
   "cell_type": "raw",
   "id": "60779ce6",
   "metadata": {},
   "source": [
    "an array is a data structure that stores the values of same data type, in python this is main difference between arrays and list.\n",
    "while python lists contain value correspondng to different data types can be stored .\n",
    "arrays in python can only stores the contain same data types"
   ]
  },
  {
   "cell_type": "code",
   "execution_count": 1,
   "id": "d4076d28",
   "metadata": {},
   "outputs": [
    {
     "name": "stdout",
     "output_type": "stream",
     "text": [
      "Requirement already satisfied: numpy in f:\\vineethreddy\\lib\\site-packages (1.20.1)\n"
     ]
    }
   ],
   "source": [
    "# install the numpy\n",
    "# !pip install numpy"
   ]
  },
  {
   "cell_type": "code",
   "execution_count": 2,
   "id": "de05b3d6",
   "metadata": {},
   "outputs": [],
   "source": [
    "#import the numpy\n",
    "import numpy as np # np is alias name for shortcut"
   ]
  },
  {
   "cell_type": "code",
   "execution_count": 8,
   "id": "9ef5c868",
   "metadata": {},
   "outputs": [],
   "source": [
    "my_lst = [1,2,3,4,5] #list creating \n",
    "arr = np.array(my_lst) #converting to numpy arrays"
   ]
  },
  {
   "cell_type": "code",
   "execution_count": 11,
   "id": "e1a17e38",
   "metadata": {},
   "outputs": [
    {
     "data": {
      "text/plain": [
       "numpy.ndarray"
      ]
     },
     "execution_count": 11,
     "metadata": {},
     "output_type": "execute_result"
    }
   ],
   "source": [
    "type(arr)"
   ]
  },
  {
   "cell_type": "code",
   "execution_count": 12,
   "id": "affd5105",
   "metadata": {},
   "outputs": [
    {
     "data": {
      "text/plain": [
       "(5,)"
      ]
     },
     "execution_count": 12,
     "metadata": {},
     "output_type": "execute_result"
    }
   ],
   "source": [
    "arr.shape  #shape of the array"
   ]
  },
  {
   "cell_type": "code",
   "execution_count": 10,
   "id": "138bc241",
   "metadata": {},
   "outputs": [
    {
     "data": {
      "text/plain": [
       "array([[1, 2, 3, 4, 5]])"
      ]
     },
     "execution_count": 10,
     "metadata": {},
     "output_type": "execute_result"
    }
   ],
   "source": [
    "arr.reshape(1,5) #reshape array  it means converting 1D to 2D array or  multi dimensional array"
   ]
  },
  {
   "cell_type": "code",
   "execution_count": 14,
   "id": "b2923c44",
   "metadata": {},
   "outputs": [],
   "source": [
    "#creating the multi dimensional arrays\n",
    "my_list1 = [1,2,3,4,5,6]\n",
    "my_list2 = [7,8,9,10,11,12]   #creating lists\n",
    "my_list3 = [12,11,10,9,8,7]\n",
    "\n",
    "arr1 = np.array([my_list1,my_list2,my_list3])  #converting to nd array"
   ]
  },
  {
   "cell_type": "code",
   "execution_count": 16,
   "id": "aa71abbb",
   "metadata": {},
   "outputs": [
    {
     "data": {
      "text/plain": [
       "array([[ 1,  2,  3,  4,  5,  6],\n",
       "       [ 7,  8,  9, 10, 11, 12],\n",
       "       [12, 11, 10,  9,  8,  7]])"
      ]
     },
     "execution_count": 16,
     "metadata": {},
     "output_type": "execute_result"
    }
   ],
   "source": [
    "arr1 # printing the multi dimensional array"
   ]
  },
  {
   "cell_type": "code",
   "execution_count": 17,
   "id": "63b56761",
   "metadata": {},
   "outputs": [
    {
     "data": {
      "text/plain": [
       "(3, 6)"
      ]
     },
     "execution_count": 17,
     "metadata": {},
     "output_type": "execute_result"
    }
   ],
   "source": [
    "arr1.shape"
   ]
  },
  {
   "cell_type": "code",
   "execution_count": 35,
   "id": "e6641428",
   "metadata": {},
   "outputs": [],
   "source": [
    "#creating the ndmin for no of dimensions\n",
    "arr2 = np.array([1,2,3,4,5,6,7,8,9],ndmin = 3) #arr2 creating ndimensions so use ndmin = n no of dimensions"
   ]
  },
  {
   "cell_type": "code",
   "execution_count": 36,
   "id": "4e55cc06",
   "metadata": {},
   "outputs": [
    {
     "data": {
      "text/plain": [
       "array([[[1, 2, 3, 4, 5, 6, 7, 8, 9]]])"
      ]
     },
     "execution_count": 36,
     "metadata": {},
     "output_type": "execute_result"
    }
   ],
   "source": [
    "arr2"
   ]
  },
  {
   "cell_type": "code",
   "execution_count": 41,
   "id": "0f549f8b",
   "metadata": {},
   "outputs": [],
   "source": [
    "# this is the one of the creting multi dimensions\n",
    "my_list4 = np.array([[1,2,3,4,5,6],[1,2,3,4,5,67]])\n",
    "\n",
    "#NOTE : when we create the multi dimensions  that time we have to check the  no of rows and columns are will be the same "
   ]
  },
  {
   "cell_type": "code",
   "execution_count": 42,
   "id": "5b577a2c",
   "metadata": {},
   "outputs": [
    {
     "data": {
      "text/plain": [
       "array([[ 1,  2,  3,  4,  5,  6],\n",
       "       [ 1,  2,  3,  4,  5, 67]])"
      ]
     },
     "execution_count": 42,
     "metadata": {},
     "output_type": "execute_result"
    }
   ],
   "source": [
    "my_list4"
   ]
  },
  {
   "cell_type": "code",
   "execution_count": null,
   "id": "7fc4cc5c",
   "metadata": {},
   "outputs": [],
   "source": []
  },
  {
   "cell_type": "code",
   "execution_count": 53,
   "id": "202cb578",
   "metadata": {},
   "outputs": [],
   "source": [
    "new_array = np.array([[2,4,6,7,8,9,10,2],[1,2,3,4,5,6,7,8],[2,3,4,6,7,8,6,7]]) # creating multi dimension array"
   ]
  },
  {
   "cell_type": "code",
   "execution_count": 54,
   "id": "50d173f1",
   "metadata": {},
   "outputs": [
    {
     "data": {
      "text/plain": [
       "array([[ 2,  4,  6,  7,  8,  9, 10,  2],\n",
       "       [ 1,  2,  3,  4,  5,  6,  7,  8],\n",
       "       [ 2,  3,  4,  6,  7,  8,  6,  7]])"
      ]
     },
     "execution_count": 54,
     "metadata": {},
     "output_type": "execute_result"
    }
   ],
   "source": [
    "new_array"
   ]
  },
  {
   "cell_type": "code",
   "execution_count": 57,
   "id": "da14d5ee",
   "metadata": {},
   "outputs": [
    {
     "data": {
      "text/plain": [
       "(3, 8)"
      ]
     },
     "execution_count": 57,
     "metadata": {},
     "output_type": "execute_result"
    }
   ],
   "source": [
    "new_array.shape # check the shape of rows and columns"
   ]
  },
  {
   "cell_type": "code",
   "execution_count": 61,
   "id": "36b26f6d",
   "metadata": {},
   "outputs": [
    {
     "data": {
      "text/plain": [
       "array([[ 2,  4,  6,  7],\n",
       "       [ 8,  9, 10,  2],\n",
       "       [ 1,  2,  3,  4],\n",
       "       [ 5,  6,  7,  8],\n",
       "       [ 2,  3,  4,  6],\n",
       "       [ 7,  8,  6,  7]])"
      ]
     },
     "execution_count": 61,
     "metadata": {},
     "output_type": "execute_result"
    }
   ],
   "source": [
    "new_array.reshape(6,4)  # total 24 elements are there  so we multiple with two numbers and out wil be 24 so \n",
    "                        # we can take as (6,4),(4,6),(12,2),(2,12),(1,24)(24,1) these element values sholud be classify reshape"
   ]
  },
  {
   "cell_type": "markdown",
   "id": "4fa700b9",
   "metadata": {},
   "source": [
    "# Indexing in single dimension array"
   ]
  },
  {
   "cell_type": "code",
   "execution_count": 77,
   "id": "9f2c4f8a",
   "metadata": {},
   "outputs": [],
   "source": [
    "my_lst = [1,2,3,4,5] #list creating \n",
    "arr = np.array(my_lst) #converting to numpy arrays"
   ]
  },
  {
   "cell_type": "code",
   "execution_count": 78,
   "id": "08c78731",
   "metadata": {},
   "outputs": [
    {
     "data": {
      "text/plain": [
       "array([1, 2, 3, 4, 5])"
      ]
     },
     "execution_count": 78,
     "metadata": {},
     "output_type": "execute_result"
    }
   ],
   "source": [
    "arr"
   ]
  },
  {
   "cell_type": "code",
   "execution_count": 79,
   "id": "b0f0093d",
   "metadata": {},
   "outputs": [
    {
     "data": {
      "text/plain": [
       "1"
      ]
     },
     "execution_count": 79,
     "metadata": {},
     "output_type": "execute_result"
    }
   ],
   "source": [
    "arr[0] #we will use this one dimensions array for finding the indexing value"
   ]
  },
  {
   "cell_type": "markdown",
   "id": "02db25c5",
   "metadata": {},
   "source": [
    "# Indexing in multiple  dimension array"
   ]
  },
  {
   "cell_type": "code",
   "execution_count": 82,
   "id": "c2730690",
   "metadata": {},
   "outputs": [],
   "source": [
    "new_array = np.array([[2,4,6,7,8,9,10,2],[1,2,3,4,5,6,7,8],[2,3,4,6,7,8,6,7]]) # creating multi dimension array"
   ]
  },
  {
   "cell_type": "code",
   "execution_count": 85,
   "id": "98409001",
   "metadata": {},
   "outputs": [
    {
     "data": {
      "text/plain": [
       "array([[ 2,  4,  6,  7,  8,  9, 10,  2],\n",
       "       [ 1,  2,  3,  4,  5,  6,  7,  8],\n",
       "       [ 2,  3,  4,  6,  7,  8,  6,  7]])"
      ]
     },
     "execution_count": 85,
     "metadata": {},
     "output_type": "execute_result"
    }
   ],
   "source": [
    "new_array[:] # printing all indexing values"
   ]
  },
  {
   "cell_type": "code",
   "execution_count": 86,
   "id": "8a93b39d",
   "metadata": {},
   "outputs": [
    {
     "data": {
      "text/plain": [
       "array([[ 2,  4,  6,  7,  8,  9, 10,  2],\n",
       "       [ 1,  2,  3,  4,  5,  6,  7,  8],\n",
       "       [ 2,  3,  4,  6,  7,  8,  6,  7]])"
      ]
     },
     "execution_count": 86,
     "metadata": {},
     "output_type": "execute_result"
    }
   ],
   "source": [
    "new_array[:,:] # printing left and right indexing values"
   ]
  },
  {
   "cell_type": "code",
   "execution_count": 91,
   "id": "ca131b8c",
   "metadata": {},
   "outputs": [
    {
     "data": {
      "text/plain": [
       "array([[ 7,  8,  9, 10,  2],\n",
       "       [ 4,  5,  6,  7,  8],\n",
       "       [ 6,  7,  8,  6,  7]])"
      ]
     },
     "execution_count": 91,
     "metadata": {},
     "output_type": "execute_result"
    }
   ],
   "source": [
    "new_array[:,3:] # printing after 3 number indexing values(after 3 Right side values are printed)"
   ]
  },
  {
   "cell_type": "code",
   "execution_count": 92,
   "id": "7198d441",
   "metadata": {},
   "outputs": [
    {
     "data": {
      "text/plain": [
       "array([[2, 4, 6],\n",
       "       [1, 2, 3],\n",
       "       [2, 3, 4]])"
      ]
     },
     "execution_count": 92,
     "metadata": {},
     "output_type": "execute_result"
    }
   ],
   "source": [
    "new_array[: , :3] # printing before 3 number indexing values(before 3 Right side values are printed)"
   ]
  },
  {
   "cell_type": "code",
   "execution_count": 111,
   "id": "63a09c6a",
   "metadata": {},
   "outputs": [
    {
     "data": {
      "text/plain": [
       "array([[ 2,  4,  6,  7,  8,  9, 10],\n",
       "       [ 1,  2,  3,  4,  5,  6,  7],\n",
       "       [ 2,  3,  4,  6,  7,  8,  6]])"
      ]
     },
     "execution_count": 111,
     "metadata": {},
     "output_type": "execute_result"
    }
   ],
   "source": [
    "new_array[: , :-1]  # printing the leaving the last indexing values and -1 come to from reverse"
   ]
  },
  {
   "cell_type": "code",
   "execution_count": null,
   "id": "4379737c",
   "metadata": {},
   "outputs": [],
   "source": []
  },
  {
   "cell_type": "code",
   "execution_count": 152,
   "id": "b21c1cda",
   "metadata": {},
   "outputs": [],
   "source": [
    "new_arrange = np.arange(0,20,2) # as like range funtion in python incase in numpy we will use arrange function to range of numbers"
   ]
  },
  {
   "cell_type": "code",
   "execution_count": 153,
   "id": "8e6000d5",
   "metadata": {},
   "outputs": [
    {
     "data": {
      "text/plain": [
       "array([ 0,  2,  4,  6,  8, 10, 12, 14, 16, 18])"
      ]
     },
     "execution_count": 153,
     "metadata": {},
     "output_type": "execute_result"
    }
   ],
   "source": [
    "new_arrange"
   ]
  },
  {
   "cell_type": "code",
   "execution_count": 154,
   "id": "e92bde01",
   "metadata": {},
   "outputs": [
    {
     "data": {
      "text/plain": [
       "array([ 0. ,  2.5,  5. ,  7.5, 10. ])"
      ]
     },
     "execution_count": 154,
     "metadata": {},
     "output_type": "execute_result"
    }
   ],
   "source": [
    "np.linspace(0,10,5)  # linspace is used to the step values between range functon"
   ]
  },
  {
   "cell_type": "code",
   "execution_count": 155,
   "id": "dae38f71",
   "metadata": {},
   "outputs": [
    {
     "data": {
      "text/plain": [
       "array([ 0,  2,  4,  6,  8, 10, 12, 14, 16, 18])"
      ]
     },
     "execution_count": 155,
     "metadata": {},
     "output_type": "execute_result"
    }
   ],
   "source": [
    "new_arrange"
   ]
  },
  {
   "cell_type": "code",
   "execution_count": 156,
   "id": "eb4757fc",
   "metadata": {},
   "outputs": [],
   "source": [
    "new_arrange[6] =2   #broadcasting  function is used to changing the values in certain indexing elemenmts"
   ]
  },
  {
   "cell_type": "code",
   "execution_count": 157,
   "id": "fbbdde12",
   "metadata": {},
   "outputs": [
    {
     "data": {
      "text/plain": [
       "array([ 0,  2,  4,  6,  8, 10,  2, 14, 16, 18])"
      ]
     },
     "execution_count": 157,
     "metadata": {},
     "output_type": "execute_result"
    }
   ],
   "source": [
    "new_arrange"
   ]
  },
  {
   "cell_type": "code",
   "execution_count": null,
   "id": "62a980cc",
   "metadata": {},
   "outputs": [],
   "source": []
  },
  {
   "cell_type": "code",
   "execution_count": 160,
   "id": "a0ba6297",
   "metadata": {},
   "outputs": [
    {
     "data": {
      "text/plain": [
       "array([0, 2, 2])"
      ]
     },
     "execution_count": 160,
     "metadata": {},
     "output_type": "execute_result"
    }
   ],
   "source": [
    "#some conditions very useful in EDA(Exploratory Data Analysis)\n",
    "val = 2\n",
    "new_arrange[new_arrange<=val]"
   ]
  },
  {
   "cell_type": "code",
   "execution_count": 161,
   "id": "3c374f29",
   "metadata": {},
   "outputs": [],
   "source": [
    "new_array = np.array([[2,4,6,7,8,9,10,2],[1,2,3,4,5,6,7,8],[2,3,4,6,7,8,6,7]]) # creating multi dimension array"
   ]
  },
  {
   "cell_type": "code",
   "execution_count": 162,
   "id": "f97e4148",
   "metadata": {},
   "outputs": [
    {
     "data": {
      "text/plain": [
       "array([[ 2,  4,  6,  7,  8,  9, 10,  2],\n",
       "       [ 1,  2,  3,  4,  5,  6,  7,  8],\n",
       "       [ 2,  3,  4,  6,  7,  8,  6,  7]])"
      ]
     },
     "execution_count": 162,
     "metadata": {},
     "output_type": "execute_result"
    }
   ],
   "source": [
    "new_array"
   ]
  },
  {
   "cell_type": "code",
   "execution_count": 179,
   "id": "1ba5b79c",
   "metadata": {},
   "outputs": [
    {
     "name": "stdout",
     "output_type": "stream",
     "text": [
      "greaterthan eql to 5 numbers in array [ 6  7  8  9 10  5  6  7  8  6  7  8  6  7]\n",
      "\n",
      "\n",
      "lessthan eql to 5 numbers in array [2 4 2 1 2 3 4 5 2 3 4]\n",
      "\n",
      "\n",
      "eql to 5 numbers in array [5]\n",
      "\n",
      "\n",
      "greaterthan to 5 numbers in array [ 6  7  8  9 10  6  7  8  6  7  8  6  7]\n",
      "\n",
      "\n",
      "less than eql to 5 numbers in array [2 4 2 1 2 3 4 2 3 4]\n"
     ]
    }
   ],
   "source": [
    "#some conditions very useful in EDA(Exploratory Data Analysis)\n",
    "val = 5\n",
    "print ('greaterthan eql to 5 numbers in array',new_array[new_array>=val])\n",
    "print('\\n')\n",
    "print ('lessthan eql to 5 numbers in array',new_array[new_array<=val])\n",
    "print('\\n')\n",
    "print ('eql to 5 numbers in array',new_array[new_array==val])\n",
    "print('\\n')\n",
    "print ('greaterthan to 5 numbers in array',new_array[new_array>val])\n",
    "print('\\n')\n",
    "print ('less than eql to 5 numbers in array',new_array[new_array<val])"
   ]
  },
  {
   "cell_type": "code",
   "execution_count": null,
   "id": "82a9f3dc",
   "metadata": {},
   "outputs": [],
   "source": []
  },
  {
   "cell_type": "code",
   "execution_count": 184,
   "id": "6d466e0d",
   "metadata": {},
   "outputs": [
    {
     "data": {
      "text/plain": [
       "array([[0, 1, 2, 3, 4],\n",
       "       [5, 6, 7, 8, 9]])"
      ]
     },
     "execution_count": 184,
     "metadata": {},
     "output_type": "execute_result"
    }
   ],
   "source": [
    "arr_1 = np.arange(0,10).reshape(2,5)\n",
    "arr_1"
   ]
  },
  {
   "cell_type": "code",
   "execution_count": 185,
   "id": "9c551267",
   "metadata": {},
   "outputs": [
    {
     "data": {
      "text/plain": [
       "array([[0, 1, 2, 3, 4],\n",
       "       [5, 6, 7, 8, 9]])"
      ]
     },
     "execution_count": 185,
     "metadata": {},
     "output_type": "execute_result"
    }
   ],
   "source": [
    "arr_2 = np.arange(0,10).reshape(2,5)\n",
    "arr_2"
   ]
  },
  {
   "cell_type": "code",
   "execution_count": 187,
   "id": "41a09778",
   "metadata": {},
   "outputs": [
    {
     "data": {
      "text/plain": [
       "array([[ 0,  1,  4,  9, 16],\n",
       "       [25, 36, 49, 64, 81]])"
      ]
     },
     "execution_count": 187,
     "metadata": {},
     "output_type": "execute_result"
    }
   ],
   "source": [
    "arr_1*arr_2     #multiplying two arrays"
   ]
  },
  {
   "cell_type": "code",
   "execution_count": 209,
   "id": "3a1aec6d",
   "metadata": {},
   "outputs": [
    {
     "data": {
      "text/plain": [
       "array([[0, 0, 0, 0, 0],\n",
       "       [0, 0, 0, 0, 0],\n",
       "       [0, 0, 0, 0, 0],\n",
       "       [0, 0, 0, 0, 0],\n",
       "       [0, 0, 0, 0, 0]])"
      ]
     },
     "execution_count": 209,
     "metadata": {},
     "output_type": "execute_result"
    }
   ],
   "source": [
    "np.zeros((5,5),dtype=int) #all ones in multi dimensions "
   ]
  },
  {
   "cell_type": "code",
   "execution_count": 207,
   "id": "b0dbab2b",
   "metadata": {},
   "outputs": [
    {
     "data": {
      "text/plain": [
       "array([[1, 1, 1, 1, 1],\n",
       "       [1, 1, 1, 1, 1],\n",
       "       [1, 1, 1, 1, 1],\n",
       "       [1, 1, 1, 1, 1],\n",
       "       [1, 1, 1, 1, 1]])"
      ]
     },
     "execution_count": 207,
     "metadata": {},
     "output_type": "execute_result"
    }
   ],
   "source": [
    "np.ones((5,5),dtype=int)  #all  Zeros in multi dimensions"
   ]
  },
  {
   "cell_type": "code",
   "execution_count": 218,
   "id": "00ed1411",
   "metadata": {},
   "outputs": [
    {
     "data": {
      "text/plain": [
       "array([[0.33845772, 0.2844579 , 0.21974766, 0.03158805, 0.12979426,\n",
       "        0.43680165, 0.31962937, 0.05880605, 0.57804188, 0.58256717]])"
      ]
     },
     "execution_count": 218,
     "metadata": {},
     "output_type": "execute_result"
    }
   ],
   "source": [
    "#random distribution in numpy\n",
    "np.random.rand(1,10)  #in rand as 1 * 10  uniform distribution like 0 to 1 range between values to 10 "
   ]
  },
  {
   "cell_type": "code",
   "execution_count": 224,
   "id": "a8a01835",
   "metadata": {},
   "outputs": [],
   "source": [
    "arr_ex = np.random.randn(4,4) # standard normal distribution - to + values"
   ]
  },
  {
   "cell_type": "code",
   "execution_count": 225,
   "id": "ad1157c0",
   "metadata": {},
   "outputs": [
    {
     "data": {
      "text/plain": [
       "array([[-0.18779462,  2.08280479, -0.35558539, -0.02663217],\n",
       "       [-0.839743  , -0.38666955, -2.2466371 ,  1.25008995],\n",
       "       [-0.60747729,  1.02170982, -0.12017969,  0.2489043 ],\n",
       "       [ 0.50612025,  1.15798139,  0.17185007,  0.42456503]])"
      ]
     },
     "execution_count": 225,
     "metadata": {},
     "output_type": "execute_result"
    }
   ],
   "source": [
    "arr_ex"
   ]
  },
  {
   "cell_type": "code",
   "execution_count": 241,
   "id": "9fe01188",
   "metadata": {},
   "outputs": [
    {
     "data": {
      "text/plain": [
       "array([[0.16990202, 0.64804799]])"
      ]
     },
     "execution_count": 241,
     "metadata": {},
     "output_type": "execute_result"
    }
   ],
   "source": [
    "np.random.random_sample((1,2)) #it is also floats values betweeen range of 0 to 1"
   ]
  },
  {
   "cell_type": "code",
   "execution_count": 243,
   "id": "d52a6d92",
   "metadata": {},
   "outputs": [
    {
     "data": {
      "text/plain": [
       "array([[ 6,  6,  8, 10, 11],\n",
       "       [19, 14, 19,  5,  9]])"
      ]
     },
     "execution_count": 243,
     "metadata": {},
     "output_type": "execute_result"
    }
   ],
   "source": [
    "np.random.randint(0,20,size=10).reshape(2,5)   # randomly integer values are implemented the range of values "
   ]
  },
  {
   "cell_type": "code",
   "execution_count": 244,
   "id": "a021dee1",
   "metadata": {},
   "outputs": [
    {
     "data": {
      "text/plain": [
       "array([[ 2,  4,  6,  7,  8,  9, 10,  2],\n",
       "       [ 1,  2,  3,  4,  5,  6,  7,  8],\n",
       "       [ 2,  3,  4,  6,  7,  8,  6,  7]])"
      ]
     },
     "execution_count": 244,
     "metadata": {},
     "output_type": "execute_result"
    }
   ],
   "source": [
    "new_array"
   ]
  },
  {
   "cell_type": "code",
   "execution_count": 255,
   "id": "ca1866c6",
   "metadata": {},
   "outputs": [
    {
     "data": {
      "text/plain": [
       "array([[6, 7, 8],\n",
       "       [8, 6, 7]])"
      ]
     },
     "execution_count": 255,
     "metadata": {},
     "output_type": "execute_result"
    }
   ],
   "source": [
    "new_array[1:,5:]   # semicolumn will have left side of the indexing number that before indexing values are printed \n",
    "                    # semicolumn will have right side of the indexing number that after indexing values are printed \n",
    "                    #this is the indexing values atre printed by rows and columns like as  left is rows and right is columns"
   ]
  },
  {
   "cell_type": "code",
   "execution_count": 256,
   "id": "c4b76eb2",
   "metadata": {},
   "outputs": [
    {
     "data": {
      "text/plain": [
       "array([[ 2,  1,  2],\n",
       "       [ 4,  2,  3],\n",
       "       [ 6,  3,  4],\n",
       "       [ 7,  4,  6],\n",
       "       [ 8,  5,  7],\n",
       "       [ 9,  6,  8],\n",
       "       [10,  7,  6],\n",
       "       [ 2,  8,  7]])"
      ]
     },
     "execution_count": 256,
     "metadata": {},
     "output_type": "execute_result"
    }
   ],
   "source": [
    "new_array.T      #transpose function is work like a transpose matrix"
   ]
  },
  {
   "cell_type": "code",
   "execution_count": 268,
   "id": "df5e7c47",
   "metadata": {},
   "outputs": [
    {
     "data": {
      "text/plain": [
       "array([1, 2, 3, 4, 5, 6, 7, 8, 9, 0, 1, 2, 3, 4, 5, 6, 7, 8, 9, 0, 1, 2,\n",
       "       3, 4, 5, 6, 7, 8, 9])"
      ]
     },
     "execution_count": 268,
     "metadata": {},
     "output_type": "execute_result"
    }
   ],
   "source": [
    "a = np.arange(1,10)\n",
    "b = np.arange(10)\n",
    "c = np.arange(10)\n",
    "np.concatenate((a,b,c)) #joining the arrays"
   ]
  },
  {
   "cell_type": "code",
   "execution_count": 270,
   "id": "c08c9345",
   "metadata": {},
   "outputs": [],
   "source": [
    "a = np.array([[1,2],[3,4]])\n",
    "b = np.array([[1,2]])"
   ]
  },
  {
   "cell_type": "code",
   "execution_count": 275,
   "id": "9a5d7d2b",
   "metadata": {},
   "outputs": [
    {
     "data": {
      "text/plain": [
       "array([[1, 2, 1],\n",
       "       [3, 4, 2]])"
      ]
     },
     "execution_count": 275,
     "metadata": {},
     "output_type": "execute_result"
    }
   ],
   "source": [
    "np.concatenate((a,b.T),axis = 1)     #transpose array"
   ]
  },
  {
   "cell_type": "code",
   "execution_count": 276,
   "id": "99476d2c",
   "metadata": {},
   "outputs": [
    {
     "data": {
      "text/plain": [
       "array([[1, 2],\n",
       "       [3, 4],\n",
       "       [1, 2]])"
      ]
     },
     "execution_count": 276,
     "metadata": {},
     "output_type": "execute_result"
    }
   ],
   "source": [
    "np.vstack((a,b)) # same as works like concat "
   ]
  },
  {
   "cell_type": "code",
   "execution_count": 286,
   "id": "8ee95e30",
   "metadata": {},
   "outputs": [
    {
     "data": {
      "text/plain": [
       "[array([1, 2, 3, 4, 5, 6]), array([ 7,  8,  9, 10, 11, 12])]"
      ]
     },
     "execution_count": 286,
     "metadata": {},
     "output_type": "execute_result"
    }
   ],
   "source": [
    "a = np.arange(1,13)\n",
    "np.split(a,4)  #splitting the array by 4\n",
    "np.split(a,2)   #splitting the array by 2"
   ]
  },
  {
   "cell_type": "code",
   "execution_count": 288,
   "id": "5ffb893e",
   "metadata": {},
   "outputs": [
    {
     "data": {
      "text/plain": [
       "array([  0,   1,   2,   3,   4, 500,   5,   6,   7,   8,   9])"
      ]
     },
     "execution_count": 288,
     "metadata": {},
     "output_type": "execute_result"
    }
   ],
   "source": [
    "# insert function in numpy \n",
    "a = np.arange(0,10)\n",
    "np.insert(a,5,500)     #inserting in 5th index element"
   ]
  },
  {
   "cell_type": "code",
   "execution_count": 294,
   "id": "0fd5b8b4",
   "metadata": {},
   "outputs": [
    {
     "data": {
      "text/plain": [
       "array([  0,   1,   2, 500,   3,   4,   5,   6,   7,   8,   9, 500])"
      ]
     },
     "execution_count": 294,
     "metadata": {},
     "output_type": "execute_result"
    }
   ],
   "source": [
    "np.insert(a,(3,10),500)  #inserting in two indexing elements "
   ]
  },
  {
   "cell_type": "markdown",
   "id": "a250d481",
   "metadata": {},
   "source": [
    "# Matrix"
   ]
  },
  {
   "cell_type": "code",
   "execution_count": 301,
   "id": "f28b0a5d",
   "metadata": {},
   "outputs": [],
   "source": [
    "a =np.matrix(\"2 4 ; 5 10\")"
   ]
  },
  {
   "cell_type": "code",
   "execution_count": 302,
   "id": "63606972",
   "metadata": {},
   "outputs": [
    {
     "data": {
      "text/plain": [
       "matrix([[ 2,  4],\n",
       "        [ 5, 10]])"
      ]
     },
     "execution_count": 302,
     "metadata": {},
     "output_type": "execute_result"
    }
   ],
   "source": [
    "a"
   ]
  },
  {
   "cell_type": "code",
   "execution_count": 305,
   "id": "37878f18",
   "metadata": {},
   "outputs": [
    {
     "data": {
      "text/plain": [
       "matrix([[ 2,  4],\n",
       "        [ 5, 10]])"
      ]
     },
     "execution_count": 305,
     "metadata": {},
     "output_type": "execute_result"
    }
   ],
   "source": [
    "b =np.matrix(\"2 4 ; 5 10\")\n",
    "b"
   ]
  },
  {
   "cell_type": "code",
   "execution_count": 307,
   "id": "945df336",
   "metadata": {},
   "outputs": [
    {
     "data": {
      "text/plain": [
       "matrix([[ 4,  8],\n",
       "        [10, 20]])"
      ]
     },
     "execution_count": 307,
     "metadata": {},
     "output_type": "execute_result"
    }
   ],
   "source": [
    "a+b    #addition in matrix"
   ]
  },
  {
   "cell_type": "code",
   "execution_count": 310,
   "id": "5cfa350e",
   "metadata": {},
   "outputs": [
    {
     "data": {
      "text/plain": [
       "matrix([[ 24,  48],\n",
       "        [ 60, 120]])"
      ]
     },
     "execution_count": 310,
     "metadata": {},
     "output_type": "execute_result"
    }
   ],
   "source": [
    "a*b #multiplication"
   ]
  },
  {
   "cell_type": "code",
   "execution_count": 312,
   "id": "130523ad",
   "metadata": {},
   "outputs": [
    {
     "data": {
      "text/plain": [
       "matrix([[0, 0],\n",
       "        [0, 0]])"
      ]
     },
     "execution_count": 312,
     "metadata": {},
     "output_type": "execute_result"
    }
   ],
   "source": [
    "a-b  #subtraction"
   ]
  },
  {
   "cell_type": "code",
   "execution_count": 313,
   "id": "9097d1de",
   "metadata": {},
   "outputs": [
    {
     "data": {
      "text/plain": [
       "matrix([[0, 0],\n",
       "        [0, 0]], dtype=int32)"
      ]
     },
     "execution_count": 313,
     "metadata": {},
     "output_type": "execute_result"
    }
   ],
   "source": [
    "a%b #moduules matrix"
   ]
  },
  {
   "cell_type": "code",
   "execution_count": 315,
   "id": "db09df6f",
   "metadata": {},
   "outputs": [
    {
     "data": {
      "text/plain": [
       "matrix([[1, 1],\n",
       "        [1, 1]], dtype=int32)"
      ]
     },
     "execution_count": 315,
     "metadata": {},
     "output_type": "execute_result"
    }
   ],
   "source": [
    "a // b  #division matraix"
   ]
  },
  {
   "cell_type": "markdown",
   "id": "ab9d0041",
   "metadata": {},
   "source": [
    "# Linear Algebra"
   ]
  },
  {
   "cell_type": "markdown",
   "id": "87780eab",
   "metadata": {},
   "source": [
    "Inverse Matrix"
   ]
  },
  {
   "cell_type": "code",
   "execution_count": 326,
   "id": "142fda26",
   "metadata": {},
   "outputs": [],
   "source": [
    "#inverse matrix \n",
    "a = np.array([[1,2],[3,4]])   "
   ]
  },
  {
   "cell_type": "code",
   "execution_count": 327,
   "id": "814e27c7",
   "metadata": {},
   "outputs": [],
   "source": [
    "b = np.linalg.inv(a) #inverse of matrix is the worked on 1/ad-bc[d -b,-c a]"
   ]
  },
  {
   "cell_type": "code",
   "execution_count": 328,
   "id": "e7df9ef3",
   "metadata": {},
   "outputs": [
    {
     "data": {
      "text/plain": [
       "array([[-2. ,  1. ],\n",
       "       [ 1.5, -0.5]])"
      ]
     },
     "execution_count": 328,
     "metadata": {},
     "output_type": "execute_result"
    }
   ],
   "source": [
    "b"
   ]
  },
  {
   "cell_type": "code",
   "execution_count": 330,
   "id": "85c5c87d",
   "metadata": {},
   "outputs": [
    {
     "data": {
      "text/plain": [
       "True"
      ]
     },
     "execution_count": 330,
     "metadata": {},
     "output_type": "execute_result"
    }
   ],
   "source": [
    "np.allclose(np.dot(a,b),np.eye(2))   #dot product"
   ]
  },
  {
   "cell_type": "code",
   "execution_count": 331,
   "id": "3efa5b87",
   "metadata": {},
   "outputs": [
    {
     "data": {
      "text/plain": [
       "array([[1.00000000e+00, 1.11022302e-16],\n",
       "       [0.00000000e+00, 1.00000000e+00]])"
      ]
     },
     "execution_count": 331,
     "metadata": {},
     "output_type": "execute_result"
    }
   ],
   "source": [
    "np.dot(a,b)"
   ]
  },
  {
   "cell_type": "code",
   "execution_count": null,
   "id": "cec3c887",
   "metadata": {},
   "outputs": [],
   "source": []
  },
  {
   "cell_type": "markdown",
   "id": "e9e51d0a",
   "metadata": {},
   "source": [
    "Power Of Matrix A "
   ]
  },
  {
   "cell_type": "code",
   "execution_count": 342,
   "id": "b4108874",
   "metadata": {},
   "outputs": [
    {
     "data": {
      "text/plain": [
       "array([[1, 0],\n",
       "       [0, 1]])"
      ]
     },
     "execution_count": 342,
     "metadata": {},
     "output_type": "execute_result"
    }
   ],
   "source": [
    "a = np.array([[1,2],[3,4]])   \n",
    "np.linalg.matrix_power(a,0)   #syntax of power matrix  #a2 is a power of matrix"
   ]
  },
  {
   "cell_type": "code",
   "execution_count": 341,
   "id": "ab9af3fd",
   "metadata": {},
   "outputs": [
    {
     "data": {
      "text/plain": [
       "array([[ 7, 10],\n",
       "       [15, 22]])"
      ]
     },
     "execution_count": 341,
     "metadata": {},
     "output_type": "execute_result"
    }
   ],
   "source": [
    "np.dot(a,a)      #a * a is a power of matrix so we can use dot product"
   ]
  },
  {
   "cell_type": "code",
   "execution_count": 344,
   "id": "737b107d",
   "metadata": {},
   "outputs": [
    {
     "data": {
      "text/plain": [
       "array([[2, 4],\n",
       "       [6, 8]])"
      ]
     },
     "execution_count": 344,
     "metadata": {},
     "output_type": "execute_result"
    }
   ],
   "source": [
    "np.dot(a,2)     #dot product means matrix square is a^2"
   ]
  },
  {
   "cell_type": "markdown",
   "id": "8a2b7ea2",
   "metadata": {},
   "source": [
    "solve linear eqn in numpy as mtrix"
   ]
  },
  {
   "cell_type": "code",
   "execution_count": 370,
   "id": "ee321568",
   "metadata": {},
   "outputs": [],
   "source": [
    "a = np.matrix('3 1 ; 1 2')      "
   ]
  },
  {
   "cell_type": "code",
   "execution_count": 371,
   "id": "bcac0983",
   "metadata": {},
   "outputs": [],
   "source": [
    "b = np.matrix('9;8')"
   ]
  },
  {
   "cell_type": "code",
   "execution_count": 372,
   "id": "cd498a6c",
   "metadata": {},
   "outputs": [
    {
     "data": {
      "text/plain": [
       "(matrix([[3, 1],\n",
       "         [1, 2]]),\n",
       " matrix([[9],\n",
       "         [8]]))"
      ]
     },
     "execution_count": 372,
     "metadata": {},
     "output_type": "execute_result"
    }
   ],
   "source": [
    "a,b    # 3x + y = 9      \n",
    "       # x + 2y = 8"
   ]
  },
  {
   "cell_type": "code",
   "execution_count": 373,
   "id": "dfe3300d",
   "metadata": {},
   "outputs": [
    {
     "data": {
      "text/plain": [
       "matrix([[2.],\n",
       "        [3.]])"
      ]
     },
     "execution_count": 373,
     "metadata": {},
     "output_type": "execute_result"
    }
   ],
   "source": [
    "# solved  the above equation by using numpy library in linalg.solve\n",
    "np.linalg.solve(a,b)   # syntax of inversre method    "
   ]
  },
  {
   "cell_type": "markdown",
   "id": "6e0918fc",
   "metadata": {},
   "source": [
    "Determinant of a Matrix"
   ]
  },
  {
   "cell_type": "code",
   "execution_count": 374,
   "id": "6384e9b4",
   "metadata": {},
   "outputs": [
    {
     "data": {
      "text/plain": [
       "-2.0000000000000004"
      ]
     },
     "execution_count": 374,
     "metadata": {},
     "output_type": "execute_result"
    }
   ],
   "source": [
    "# the formula of determinant of matrix is ad - bc \n",
    "a = np.array([[1,2],[3,4]])\n",
    "np.linalg.det(a)  #syntax of det"
   ]
  },
  {
   "cell_type": "code",
   "execution_count": 375,
   "id": "21cdf3e7",
   "metadata": {},
   "outputs": [
    {
     "data": {
      "text/plain": [
       "-2"
      ]
     },
     "execution_count": 375,
     "metadata": {},
     "output_type": "execute_result"
    }
   ],
   "source": [
    "round(np.linalg.det(a))   #round up number "
   ]
  },
  {
   "cell_type": "code",
   "execution_count": null,
   "id": "8b5e80a2",
   "metadata": {},
   "outputs": [],
   "source": []
  }
 ],
 "metadata": {
  "kernelspec": {
   "display_name": "Python 3",
   "language": "python",
   "name": "python3"
  },
  "language_info": {
   "codemirror_mode": {
    "name": "ipython",
    "version": 3
   },
   "file_extension": ".py",
   "mimetype": "text/x-python",
   "name": "python",
   "nbconvert_exporter": "python",
   "pygments_lexer": "ipython3",
   "version": "3.8.8"
  }
 },
 "nbformat": 4,
 "nbformat_minor": 5
}
